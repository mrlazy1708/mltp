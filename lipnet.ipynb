{
 "cells": [
  {
   "cell_type": "code",
   "execution_count": null,
   "metadata": {},
   "outputs": [],
   "source": [
    "%pip install git+https://github.com/fra31/auto-attack"
   ]
  },
  {
   "cell_type": "code",
   "execution_count": 3,
   "metadata": {},
   "outputs": [],
   "source": [
    "import torch\n",
    "import numpy as np\n",
    "\n",
    "from torchvision import transforms\n",
    "from torchvision.datasets import MNIST, CIFAR10\n",
    "from torch.utils.data.dataloader import DataLoader\n",
    "\n",
    "device = torch.device(\"cuda:0\" if torch.cuda.is_available() else \"cpu\")\n",
    "dataset = MNIST(root='./data/MNIST', download=True, train=True, transform=transforms.Compose([transforms.ToTensor()]))\n",
    "dataloader = DataLoader(dataset, batch_size=256, shuffle=True)"
   ]
  },
  {
   "cell_type": "code",
   "execution_count": 4,
   "metadata": {},
   "outputs": [],
   "source": [
    "from tqdm import tqdm\n",
    "\n",
    "def train(model, optmz, crtrn, dl):\n",
    "    model.train()\n",
    "    \n",
    "    loss = 0\n",
    "    for images, labels in tqdm(dl):\n",
    "        images = images.to(device)\n",
    "        labels = labels.to(device)\n",
    "\n",
    "        output = model(images).squeeze()\n",
    "        b_loss = crtrn(output, labels)\n",
    "        \n",
    "        optmz.zero_grad()\n",
    "        b_loss.backward()\n",
    "        optmz.step()\n",
    "        \n",
    "        loss += b_loss.item()\n",
    "    \n",
    "    return loss\n",
    "\n",
    "@torch.no_grad()\n",
    "def eval(model, eps, dl):\n",
    "    model.eval()\n",
    "\n",
    "    from autoattack import AutoAttack\n",
    "    attack = AutoAttack(model, norm='Linf', eps=eps)\n",
    "    \n",
    "    total, n_correct, n_certify, n_robustd = 0, 0, 0, 0\n",
    "    for images, labels in tqdm(dl):\n",
    "        images = images.to(device)\n",
    "        labels = labels.to(device)\n",
    "\n",
    "        output = model(images).squeeze()\n",
    "        predic = torch.max(output, dim=1)\n",
    "        second = torch.kthvalue(output, 9, dim=1)\n",
    "        correct = predic.indices == labels\n",
    "        certify = correct.logical_and(predic.values - second.values > eps)\n",
    "\n",
    "        # output = attack.apgd.perturb(images, labels)\n",
    "        # predic = model(output).squeeze()\n",
    "        # predic = torch.max(predic, dim=1)\n",
    "        # robustd = predic.indices == labels\n",
    "\n",
    "        total += labels.size(0)\n",
    "        n_correct += correct.sum().item()\n",
    "        n_certify += certify.sum().item()\n",
    "        # n_robustd += robustd.sum().item()\n",
    "\n",
    "    return n_correct / total, n_certify / total, n_robustd / total"
   ]
  },
  {
   "cell_type": "code",
   "execution_count": 10,
   "metadata": {},
   "outputs": [
    {
     "name": "stderr",
     "output_type": "stream",
     "text": [
      "  1%|▏         | 3/235 [00:05<06:59,  1.81s/it]\n"
     ]
    },
    {
     "ename": "KeyboardInterrupt",
     "evalue": "",
     "output_type": "error",
     "traceback": [
      "\u001b[0;31m---------------------------------------------------------------------------\u001b[0m",
      "\u001b[0;31mKeyboardInterrupt\u001b[0m                         Traceback (most recent call last)",
      "\u001b[1;32m/Users/xiaodu/Documents/🤖️代碼/mltp/lipnet.ipynb Cell 4'\u001b[0m in \u001b[0;36m<cell line: 46>\u001b[0;34m()\u001b[0m\n\u001b[1;32m     <a href='vscode-notebook-cell:/Users/xiaodu/Documents/%F0%9F%A4%96%EF%B8%8F%E4%BB%A3%E7%A2%BC/mltp/lipnet.ipynb#ch0000003?line=42'>43</a>\u001b[0m             \u001b[39mprint\u001b[39m(\u001b[39mf\u001b[39m\u001b[39m'\u001b[39m\u001b[39mEpoch \u001b[39m\u001b[39m{\u001b[39;00mepoch\u001b[39m+\u001b[39m\u001b[39m1\u001b[39m\u001b[39m}\u001b[39;00m\u001b[39m average loss: \u001b[39m\u001b[39m{\u001b[39;00mloss\u001b[39m}\u001b[39;00m\u001b[39m'\u001b[39m)\n\u001b[1;32m     <a href='vscode-notebook-cell:/Users/xiaodu/Documents/%F0%9F%A4%96%EF%B8%8F%E4%BB%A3%E7%A2%BC/mltp/lipnet.ipynb#ch0000003?line=44'>45</a>\u001b[0m lpnet \u001b[39m=\u001b[39m LpNet([\u001b[39m28\u001b[39m\u001b[39m*\u001b[39m\u001b[39m28\u001b[39m, \u001b[39m1024\u001b[39m, \u001b[39m512\u001b[39m, \u001b[39m128\u001b[39m])\u001b[39m.\u001b[39mto(device)\n\u001b[0;32m---> <a href='vscode-notebook-cell:/Users/xiaodu/Documents/%F0%9F%A4%96%EF%B8%8F%E4%BB%A3%E7%A2%BC/mltp/lipnet.ipynb#ch0000003?line=45'>46</a>\u001b[0m train_depth(lpnet, \u001b[39m1\u001b[39;49m, \u001b[39m100\u001b[39;49m)\n",
      "\u001b[1;32m/Users/xiaodu/Documents/🤖️代碼/mltp/lipnet.ipynb Cell 4'\u001b[0m in \u001b[0;36mtrain_depth\u001b[0;34m(lpnet, depth, epoches)\u001b[0m\n\u001b[1;32m     <a href='vscode-notebook-cell:/Users/xiaodu/Documents/%F0%9F%A4%96%EF%B8%8F%E4%BB%A3%E7%A2%BC/mltp/lipnet.ipynb#ch0000003?line=34'>35</a>\u001b[0m crtrn \u001b[39m=\u001b[39m torch\u001b[39m.\u001b[39mnn\u001b[39m.\u001b[39mCrossEntropyLoss()\n\u001b[1;32m     <a href='vscode-notebook-cell:/Users/xiaodu/Documents/%F0%9F%A4%96%EF%B8%8F%E4%BB%A3%E7%A2%BC/mltp/lipnet.ipynb#ch0000003?line=36'>37</a>\u001b[0m \u001b[39mfor\u001b[39;00m epoch \u001b[39min\u001b[39;00m \u001b[39mrange\u001b[39m(epoches):\n\u001b[0;32m---> <a href='vscode-notebook-cell:/Users/xiaodu/Documents/%F0%9F%A4%96%EF%B8%8F%E4%BB%A3%E7%A2%BC/mltp/lipnet.ipynb#ch0000003?line=37'>38</a>\u001b[0m     loss \u001b[39m=\u001b[39m train(net, optmz, crtrn, dataloader)\n\u001b[1;32m     <a href='vscode-notebook-cell:/Users/xiaodu/Documents/%F0%9F%A4%96%EF%B8%8F%E4%BB%A3%E7%A2%BC/mltp/lipnet.ipynb#ch0000003?line=38'>39</a>\u001b[0m     \u001b[39mif\u001b[39;00m epoch \u001b[39m%\u001b[39m \u001b[39m10\u001b[39m \u001b[39m==\u001b[39m \u001b[39m0\u001b[39m:\n\u001b[1;32m     <a href='vscode-notebook-cell:/Users/xiaodu/Documents/%F0%9F%A4%96%EF%B8%8F%E4%BB%A3%E7%A2%BC/mltp/lipnet.ipynb#ch0000003?line=39'>40</a>\u001b[0m         accu \u001b[39m=\u001b[39m \u001b[39meval\u001b[39m(net, \u001b[39m8\u001b[39m\u001b[39m/\u001b[39m\u001b[39m255\u001b[39m, dataloader)\n",
      "\u001b[1;32m/Users/xiaodu/Documents/🤖️代碼/mltp/lipnet.ipynb Cell 4'\u001b[0m in \u001b[0;36mtrain\u001b[0;34m(model, optmz, crtrn, dl)\u001b[0m\n\u001b[1;32m     <a href='vscode-notebook-cell:/Users/xiaodu/Documents/%F0%9F%A4%96%EF%B8%8F%E4%BB%A3%E7%A2%BC/mltp/lipnet.ipynb#ch0000003?line=11'>12</a>\u001b[0m b_loss \u001b[39m=\u001b[39m crtrn(output, labels)\n\u001b[1;32m     <a href='vscode-notebook-cell:/Users/xiaodu/Documents/%F0%9F%A4%96%EF%B8%8F%E4%BB%A3%E7%A2%BC/mltp/lipnet.ipynb#ch0000003?line=13'>14</a>\u001b[0m optmz\u001b[39m.\u001b[39mzero_grad()\n\u001b[0;32m---> <a href='vscode-notebook-cell:/Users/xiaodu/Documents/%F0%9F%A4%96%EF%B8%8F%E4%BB%A3%E7%A2%BC/mltp/lipnet.ipynb#ch0000003?line=14'>15</a>\u001b[0m b_loss\u001b[39m.\u001b[39;49mbackward()\n\u001b[1;32m     <a href='vscode-notebook-cell:/Users/xiaodu/Documents/%F0%9F%A4%96%EF%B8%8F%E4%BB%A3%E7%A2%BC/mltp/lipnet.ipynb#ch0000003?line=15'>16</a>\u001b[0m optmz\u001b[39m.\u001b[39mstep()\n\u001b[1;32m     <a href='vscode-notebook-cell:/Users/xiaodu/Documents/%F0%9F%A4%96%EF%B8%8F%E4%BB%A3%E7%A2%BC/mltp/lipnet.ipynb#ch0000003?line=17'>18</a>\u001b[0m loss \u001b[39m+\u001b[39m\u001b[39m=\u001b[39m b_loss\u001b[39m.\u001b[39mitem()\n",
      "File \u001b[0;32m~/.conda/miniconda3/envs/mltp/lib/python3.8/site-packages/torch/_tensor.py:363\u001b[0m, in \u001b[0;36mTensor.backward\u001b[0;34m(self, gradient, retain_graph, create_graph, inputs)\u001b[0m\n\u001b[1;32m    <a href='file:///Users/xiaodu/.conda/miniconda3/envs/mltp/lib/python3.8/site-packages/torch/_tensor.py?line=353'>354</a>\u001b[0m \u001b[39mif\u001b[39;00m has_torch_function_unary(\u001b[39mself\u001b[39m):\n\u001b[1;32m    <a href='file:///Users/xiaodu/.conda/miniconda3/envs/mltp/lib/python3.8/site-packages/torch/_tensor.py?line=354'>355</a>\u001b[0m     \u001b[39mreturn\u001b[39;00m handle_torch_function(\n\u001b[1;32m    <a href='file:///Users/xiaodu/.conda/miniconda3/envs/mltp/lib/python3.8/site-packages/torch/_tensor.py?line=355'>356</a>\u001b[0m         Tensor\u001b[39m.\u001b[39mbackward,\n\u001b[1;32m    <a href='file:///Users/xiaodu/.conda/miniconda3/envs/mltp/lib/python3.8/site-packages/torch/_tensor.py?line=356'>357</a>\u001b[0m         (\u001b[39mself\u001b[39m,),\n\u001b[0;32m   (...)\u001b[0m\n\u001b[1;32m    <a href='file:///Users/xiaodu/.conda/miniconda3/envs/mltp/lib/python3.8/site-packages/torch/_tensor.py?line=360'>361</a>\u001b[0m         create_graph\u001b[39m=\u001b[39mcreate_graph,\n\u001b[1;32m    <a href='file:///Users/xiaodu/.conda/miniconda3/envs/mltp/lib/python3.8/site-packages/torch/_tensor.py?line=361'>362</a>\u001b[0m         inputs\u001b[39m=\u001b[39minputs)\n\u001b[0;32m--> <a href='file:///Users/xiaodu/.conda/miniconda3/envs/mltp/lib/python3.8/site-packages/torch/_tensor.py?line=362'>363</a>\u001b[0m torch\u001b[39m.\u001b[39;49mautograd\u001b[39m.\u001b[39;49mbackward(\u001b[39mself\u001b[39;49m, gradient, retain_graph, create_graph, inputs\u001b[39m=\u001b[39;49minputs)\n",
      "File \u001b[0;32m~/.conda/miniconda3/envs/mltp/lib/python3.8/site-packages/torch/autograd/__init__.py:173\u001b[0m, in \u001b[0;36mbackward\u001b[0;34m(tensors, grad_tensors, retain_graph, create_graph, grad_variables, inputs)\u001b[0m\n\u001b[1;32m    <a href='file:///Users/xiaodu/.conda/miniconda3/envs/mltp/lib/python3.8/site-packages/torch/autograd/__init__.py?line=167'>168</a>\u001b[0m     retain_graph \u001b[39m=\u001b[39m create_graph\n\u001b[1;32m    <a href='file:///Users/xiaodu/.conda/miniconda3/envs/mltp/lib/python3.8/site-packages/torch/autograd/__init__.py?line=169'>170</a>\u001b[0m \u001b[39m# The reason we repeat same the comment below is that\u001b[39;00m\n\u001b[1;32m    <a href='file:///Users/xiaodu/.conda/miniconda3/envs/mltp/lib/python3.8/site-packages/torch/autograd/__init__.py?line=170'>171</a>\u001b[0m \u001b[39m# some Python versions print out the first line of a multi-line function\u001b[39;00m\n\u001b[1;32m    <a href='file:///Users/xiaodu/.conda/miniconda3/envs/mltp/lib/python3.8/site-packages/torch/autograd/__init__.py?line=171'>172</a>\u001b[0m \u001b[39m# calls in the traceback and some print out the last line\u001b[39;00m\n\u001b[0;32m--> <a href='file:///Users/xiaodu/.conda/miniconda3/envs/mltp/lib/python3.8/site-packages/torch/autograd/__init__.py?line=172'>173</a>\u001b[0m Variable\u001b[39m.\u001b[39;49m_execution_engine\u001b[39m.\u001b[39;49mrun_backward(  \u001b[39m# Calls into the C++ engine to run the backward pass\u001b[39;49;00m\n\u001b[1;32m    <a href='file:///Users/xiaodu/.conda/miniconda3/envs/mltp/lib/python3.8/site-packages/torch/autograd/__init__.py?line=173'>174</a>\u001b[0m     tensors, grad_tensors_, retain_graph, create_graph, inputs,\n\u001b[1;32m    <a href='file:///Users/xiaodu/.conda/miniconda3/envs/mltp/lib/python3.8/site-packages/torch/autograd/__init__.py?line=174'>175</a>\u001b[0m     allow_unreachable\u001b[39m=\u001b[39;49m\u001b[39mTrue\u001b[39;49;00m, accumulate_grad\u001b[39m=\u001b[39;49m\u001b[39mTrue\u001b[39;49;00m)\n",
      "\u001b[0;31mKeyboardInterrupt\u001b[0m: "
     ]
    }
   ],
   "source": [
    "import torch.nn as nn\n",
    "import Lipschitz.nn as Ln\n",
    "\n",
    "class MLP(nn.Module):\n",
    "    def __init__(self, widths, Linear, Mean):\n",
    "        super().__init__()\n",
    "        self.widths = widths\n",
    "\n",
    "        self.linears = nn.ModuleList([Linear(width, next) for (width, next) in zip(widths, widths[1:])])\n",
    "        self.means = nn.ModuleList([Mean(width) for width in widths[1:]])\n",
    "\n",
    "    def forward(self, inputs, depth=None, **args):\n",
    "        length = len(self.widths) if depth is None else depth\n",
    "        for layer, mean in zip(self.linears[:length], self.means[:length]):\n",
    "            inputs = mean(layer(inputs.flatten(1), **args))\n",
    "        return inputs\n",
    "\n",
    "class LpNet(MLP):\n",
    "    def __init__(self, widths):\n",
    "        super().__init__(widths, Ln.Linear, Ln.BatchMean)\n",
    "\n",
    "class Net(MLP):\n",
    "    def __init__(self, net, depth):\n",
    "        super().__init__(net.widths[depth:], nn.Linear, nn.BatchNorm1d)\n",
    "        self.net = net\n",
    "        self.depth = depth\n",
    "    \n",
    "    def forward(self, inputs, **args):\n",
    "        inputs = self.net.forward(inputs, self.depth, **args)\n",
    "        return super().forward(inputs, **args)\n",
    "\n",
    "def train_depth(lpnet, depth, epoches):\n",
    "    net = Net(lpnet, depth).to(device)\n",
    "    optmz = torch.optim.Adam(net.parameters(), 1e-2)\n",
    "    crtrn = torch.nn.CrossEntropyLoss()\n",
    "\n",
    "    for epoch in range(epoches):\n",
    "        loss = train(net, optmz, crtrn, dataloader)\n",
    "        if epoch % 10 == 0:\n",
    "            accu = eval(net, 8/255, dataloader)\n",
    "            print(f'Epoch {epoch+1} average loss: {loss}, accuracy: {accu}')\n",
    "        else:\n",
    "            print(f'Epoch {epoch+1} average loss: {loss}')\n",
    "\n",
    "lpnet = LpNet([28*28, 1024, 512, 128, 10]).to(device)\n",
    "train_depth(lpnet, 1, 100)"
   ]
  },
  {
   "cell_type": "code",
   "execution_count": 104,
   "metadata": {},
   "outputs": [
    {
     "name": "stderr",
     "output_type": "stream",
     "text": [
      "100%|██████████| 1000000/1000000 [00:24<00:00, 41159.32it/s]\n"
     ]
    },
    {
     "data": {
      "text/plain": [
       "[<matplotlib.lines.Line2D at 0x140f0c4c0>]"
      ]
     },
     "execution_count": 104,
     "metadata": {},
     "output_type": "execute_result"
    },
    {
     "data": {
      "image/png": "[encoded data removed]",
      "text/plain": [
       "<Figure size 432x288 with 1 Axes>"
      ]
     },
     "metadata": {
      "needs_background": "light"
     },
     "output_type": "display_data"
    }
   ],
   "source": [
    "import torch\n",
    "from matplotlib import pyplot as plt\n",
    "from tqdm import tqdm\n",
    "\n",
    "def norm(x, p):\n",
    "    return x.pow(p).sum().pow(1/p)\n",
    "\n",
    "def calc(p, d):\n",
    "    while True:\n",
    "        w, x = torch.rand(d), torch.rand(d)\n",
    "        delta = torch.rand(d)\n",
    "\n",
    "        fx = norm(w*x, p)\n",
    "        fx_delta = norm(w*(x+delta), p)\n",
    "\n",
    "        lipschitz = norm(w, p)\n",
    "        distance_x = norm(delta, p)\n",
    "        distance_fx = torch.abs(fx_delta - fx)\n",
    "\n",
    "        return distance_fx / distance_x, lipschitz\n",
    "\n",
    "def work(p, nsample, color):\n",
    "    xs, ys = [], []\n",
    "    for d in tqdm(range(1, 20)):\n",
    "        m = 0\n",
    "        for _ in range(nsample):\n",
    "            s, l = calc(p, d)\n",
    "            if l != 0:\n",
    "                m = max(m, s / l)\n",
    "        xs.append(d), ys.append(m)\n",
    "\n",
    "    plt.plot(xs, ys, c=color)\n",
    "\n",
    "# work(5, 1000, \"green\")\n",
    "# work(5, 10000, \"blue\")\n",
    "# work(5, 20000, \"blue\")\n",
    "# work(5, 30000, \"blue\")\n",
    "# work(5, 40000, \"blue\")\n",
    "# work(5, 50000, \"blue\")\n",
    "# work(5, 60000, \"blue\")\n",
    "# work(5, 70000, \"blue\")\n",
    "\n",
    "\n",
    "n = 1000000\n",
    "m, ms = 0, []\n",
    "for _ in tqdm(range(n)):\n",
    "    s, l = calc(5, 10)\n",
    "    if l != 0:\n",
    "        m = max(m, s / l)\n",
    "    ms.append(m)\n",
    "\n",
    "plt.plot(range(n), ms)\n",
    "\n",
    "# p, d = 50, 6\n",
    "# X, Y = [], []\n",
    "# for _ in tqdm(range(10000)):\n",
    "\n",
    "#     X.append(distance_fx / distance_x)\n",
    "#     Y.append(lipschitz)\n",
    "\n",
    "#     if distance_fx / distance_x > lipschitz + 1e-8:\n",
    "#         print(w, x, delta)\n",
    "#         break\n",
    "\n",
    "# lim = [0, 2]\n",
    "# plt.scatter(X, Y, s=1)\n",
    "# plt.plot(lim, lim, c=\"red\")\n",
    "# plt.xlim(*lim)\n",
    "# plt.ylim(*lim)"
   ]
  },
  {
   "cell_type": "code",
   "execution_count": 3,
   "metadata": {},
   "outputs": [
    {
     "data": {
      "text/plain": [
       "[<matplotlib.lines.Line2D at 0x118666c40>]"
      ]
     },
     "execution_count": 3,
     "metadata": {},
     "output_type": "execute_result"
    },
    {
     "data": {
      "image/png": "[encoded data removed]",
      "text/plain": [
       "<Figure size 432x288 with 1 Axes>"
      ]
     },
     "metadata": {
      "needs_background": "light"
     },
     "output_type": "display_data"
    }
   ],
   "source": [
    "import matplotlib.pyplot as plt\n",
    "\n",
    "plt.plot(\n",
    "    range(32),\n",
    "    [0.16483333333333333, 0.27086666666666664, 0.26676666666666665, 0.2667, 0.24708333333333332, 0.26661666666666667, 0.24588333333333334, 0.2447, 0.26353333333333334, 0.26263333333333333, 0.24148333333333333, 0.24163333333333334, 0.2623, 0.2615166666666667, 0.2591333333333333, 0.23886666666666667, 0.23955, 0.24245, 0.24191666666666667, 0.23953333333333332, 0.23883333333333334, 0.2384, 0.23928333333333332, 0.23993333333333333, 0.24151666666666666, 0.24175, 0.23958333333333334, 0.24111666666666667, 0.23788333333333334, 0.23921666666666666, 0.23895, 0.24068333333333333],\n",
    "    c=\"red\",\n",
    ")\n",
    "\n",
    "plt.plot(\n",
    "    range(32),\n",
    "    [0.20611666666666667, 0.3, 0.32506666666666667, 0.3317833333333333, 0.33808333333333335, 0.33953333333333335, 0.34555, 0.3576166666666667, 0.3546166666666667, 0.36595, 0.36256666666666665, 0.36435, 0.36386666666666667, 0.37296666666666667, 0.37128333333333335, 0.36013333333333336, 0.37011666666666665, 0.36928333333333335, 0.3693166666666667, 0.36773333333333336, 0.3653166666666667, 0.37356666666666666, 0.3772, 0.36555, 0.3733166666666667, 0.37528333333333336, 0.36625, 0.3791833333333333, 0.37098333333333333, 0.3736333333333333, 0.37221666666666664, 0.37398333333333333],\n",
    "    c=\"green\",\n",
    ")"
   ]
  },
  {
   "cell_type": "code",
   "execution_count": null,
   "metadata": {},
   "outputs": [],
   "source": []
  }
 ],
 "metadata": {
  "interpreter": {
   "hash": "927acd235ef05d84c1f50445731902a23ec92cc5c5657b0320ccdf46e7357662"
  },
  "kernelspec": {
   "display_name": "Python 3.8.13 ('mltp')",
   "language": "python",
   "name": "python3"
  },
  "language_info": {
   "codemirror_mode": {
    "name": "ipython",
    "version": 3
   },
   "file_extension": ".py",
   "mimetype": "text/x-python",
   "name": "python",
   "nbconvert_exporter": "python",
   "pygments_lexer": "ipython3",
   "version": "3.8.13"
  },
  "orig_nbformat": 4
 },
 "nbformat": 4,
 "nbformat_minor": 2
}

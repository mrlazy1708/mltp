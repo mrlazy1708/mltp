{
 "cells": [
  {
   "cell_type": "code",
   "execution_count": 2,
   "metadata": {},
   "outputs": [],
   "source": [
    "import torch\n",
    "import numpy as np\n",
    "\n",
    "from torchvision import transforms\n",
    "from torchvision.datasets import MNIST, CIFAR10\n",
    "from torch.utils.data.dataloader import DataLoader\n",
    "\n",
    "device = torch.device(\"cuda:0\" if torch.cuda.is_available() else \"cpu\")\n",
    "dataset = MNIST(root='./data/MNIST', download=True, train=True, transform=transforms.Compose([transforms.ToTensor()]))\n",
    "dataloader = DataLoader(dataset, batch_size=256, shuffle=True)"
   ]
  },
  {
   "cell_type": "code",
   "execution_count": 2,
   "metadata": {},
   "outputs": [],
   "source": [
    "import torch.nn as nn\n",
    "import Lipschitz.nn as Ln\n",
    "\n",
    "from tqdm import tqdm\n",
    "\n",
    "def train(model, optmz, crtrn, dl):\n",
    "    model.train()\n",
    "    \n",
    "    loss = 0\n",
    "    for images, labels in tqdm(dl):\n",
    "        images = images.to(device)\n",
    "        labels = labels.to(device)\n",
    "\n",
    "        output = model(images).squeeze()\n",
    "        b_loss = crtrn(output, labels)\n",
    "        \n",
    "        optmz.zero_grad()\n",
    "        b_loss.backward()\n",
    "        optmz.step()\n",
    "        \n",
    "        loss += b_loss.item()\n",
    "    \n",
    "    return loss\n",
    "\n",
    "@torch.no_grad()\n",
    "def eval(model, eps, dl):\n",
    "    model.eval()\n",
    "\n",
    "    from autoattack import AutoAttack\n",
    "    attack = AutoAttack(model, norm='Linf', eps=eps)\n",
    "    \n",
    "    total, n_correct, n_certify, n_robustd = 0, 0, 0, 0\n",
    "    for images, labels in tqdm(dl):\n",
    "        images = images.to(device)\n",
    "        labels = labels.to(device)\n",
    "\n",
    "        output = model(images).squeeze()\n",
    "        predic = torch.max(output, dim=1)\n",
    "        second = torch.kthvalue(output, 9, dim=1)\n",
    "        correct = predic.indices == labels\n",
    "        certify = correct.logical_and(predic.values - second.values > eps)\n",
    "\n",
    "        # output = attack.apgd.perturb(images, labels)\n",
    "        # predic = model(output).squeeze()\n",
    "        # predic = torch.max(predic, dim=1)\n",
    "        # robustd = predic.indices == labels\n",
    "\n",
    "        total += labels.size(0)\n",
    "        n_correct += correct.sum().item()\n",
    "        n_certify += certify.sum().item()\n",
    "        # n_robustd += robustd.sum().item()\n",
    "\n",
    "    return n_correct / total, n_certify / total, n_robustd / total"
   ]
  },
  {
   "cell_type": "code",
   "execution_count": null,
   "metadata": {},
   "outputs": [],
   "source": [
    "net = nn.Sequential(\n",
    "    Ln.Conv2d(1, 6, 5, 1, 2),\n",
    "    nn.MaxPool2d(2, 2),\n",
    "\n",
    "    Ln.Conv2d(6, 16, 5, 1, 0),\n",
    "    nn.MaxPool2d(2, 2),\n",
    "\n",
    "    nn.Flatten(),\n",
    "\n",
    "    Ln.Linear(400, 120),\n",
    "    Ln.Linear(120, 84),\n",
    "    Ln.Linear(84, 10),\n",
    ")\n",
    "\n",
    "optmz = torch.optim.Adam(net.parameters(), 1e-3)\n",
    "crtrn = torch.nn.CrossEntropyLoss()\n",
    "\n",
    "for epoch in range(10):\n",
    "    loss = train(net, optmz, crtrn, dataloader)\n",
    "    if epoch % 5 == 4:\n",
    "        accu = eval(net, 8/255, dataloader)\n",
    "        print(f'Epoch {epoch+1} average loss: {loss}, accuracy: {accu}')\n",
    "    else:\n",
    "        print(f'Epoch {epoch+1} average loss: {loss}')"
   ]
  },
  {
   "cell_type": "code",
   "execution_count": 24,
   "metadata": {},
   "outputs": [
    {
     "name": "stdout",
     "output_type": "stream",
     "text": [
      "tensor([[[[1., 2., 3., 4.],\n",
      "          [4., 5., 6., 4.],\n",
      "          [7., 8., 9., 4.]]]])\n",
      "tensor([[[0., 0., 0., 0., 0., 1., 2., 3., 0., 4., 5., 6.],\n",
      "         [0., 0., 0., 0., 1., 2., 3., 4., 4., 5., 6., 4.],\n",
      "         [0., 0., 0., 0., 2., 3., 4., 0., 5., 6., 4., 0.],\n",
      "         [0., 1., 2., 3., 0., 4., 5., 6., 0., 7., 8., 9.],\n",
      "         [1., 2., 3., 4., 4., 5., 6., 4., 7., 8., 9., 4.],\n",
      "         [2., 3., 4., 0., 5., 6., 4., 0., 8., 9., 4., 0.],\n",
      "         [0., 4., 5., 6., 0., 7., 8., 9., 0., 0., 0., 0.],\n",
      "         [4., 5., 6., 4., 7., 8., 9., 4., 0., 0., 0., 0.],\n",
      "         [5., 6., 4., 0., 8., 9., 4., 0., 0., 0., 0., 0.]]]) torch.Size([1, 9, 12])\n"
     ]
    }
   ],
   "source": [
    "a = torch.Tensor([[[[1, 2, 3, 4], [4, 5, 6, 4], [7, 8, 9, 4]]]])\n",
    "print(a)\n",
    "\n",
    "import torch.nn.functional as F\n",
    "b = F.unfold(a, 3, 1, 1, 1)\n",
    "print(b, b.shape)"
   ]
  },
  {
   "cell_type": "code",
   "execution_count": 8,
   "metadata": {},
   "outputs": [
    {
     "data": {
      "text/plain": [
       "torch.Size([1, 100, 1, 36])"
      ]
     },
     "execution_count": 8,
     "metadata": {},
     "output_type": "execute_result"
    }
   ],
   "source": [
    "torch.empty(100, 4, 3, 3).flatten(-3)[None, :, None, :].shape"
   ]
  },
  {
   "cell_type": "code",
   "execution_count": null,
   "metadata": {},
   "outputs": [],
   "source": []
  }
 ],
 "metadata": {
  "interpreter": {
   "hash": "927acd235ef05d84c1f50445731902a23ec92cc5c5657b0320ccdf46e7357662"
  },
  "kernelspec": {
   "display_name": "Python 3.8.13 ('mltp')",
   "language": "python",
   "name": "python3"
  },
  "language_info": {
   "codemirror_mode": {
    "name": "ipython",
    "version": 3
   },
   "file_extension": ".py",
   "mimetype": "text/x-python",
   "name": "python",
   "nbconvert_exporter": "python",
   "pygments_lexer": "ipython3",
   "version": "3.8.13"
  },
  "orig_nbformat": 4
 },
 "nbformat": 4,
 "nbformat_minor": 2
}
